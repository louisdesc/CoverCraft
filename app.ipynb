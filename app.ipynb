{
 "cells": [
  {
   "cell_type": "code",
   "execution_count": 22,
   "metadata": {},
   "outputs": [],
   "source": [
    "# import os\n",
    "# api_key = os.getenv(\"OPENAI_API_KEY\")"
   ]
  },
  {
   "cell_type": "markdown",
   "metadata": {},
   "source": [
    "## Import input data"
   ]
  },
  {
   "cell_type": "code",
   "execution_count": 4,
   "metadata": {},
   "outputs": [],
   "source": [
    "def read_file(file_path):\n",
    "    with open(file_path) as f:\n",
    "        return f.readlines()\n",
    "\n",
    "# Read job_info.txt,profile_info.txt,letter_raw.txt files\n",
    "job_info = read_file(\"job_info.txt\")\n",
    "profile_info = read_file(\"profile_info.txt\")\n",
    "letter_raw = read_file(\"letter_raw.txt\")"
   ]
  },
  {
   "cell_type": "markdown",
   "metadata": {},
   "source": [
    "## Open AI API"
   ]
  },
  {
   "cell_type": "markdown",
   "metadata": {},
   "source": [
    "### Function to call the OpenAI API"
   ]
  },
  {
   "cell_type": "code",
   "execution_count": 9,
   "metadata": {},
   "outputs": [],
   "source": [
    "def create_openai_completion(model, messages):\n",
    "    from openai import OpenAI\n",
    "    client = OpenAI()\n",
    "    try:\n",
    "        completion = client.chat.completions.create(\n",
    "            model=model,\n",
    "            messages=messages,\n",
    "            temperature= 0.4\n",
    "        )\n",
    "        return completion\n",
    "    except Exception as e:\n",
    "        print(f\"An error occurred: {e}\")\n",
    "        return None"
   ]
  },
  {
   "cell_type": "markdown",
   "metadata": {},
   "source": [
    "### Function to prepare the prompt for the API"
   ]
  },
  {
   "cell_type": "code",
   "execution_count": 6,
   "metadata": {},
   "outputs": [],
   "source": [
    "\n",
    "def prepare_messages(profile_info, job_info, letter_format):\n",
    "    return [\n",
    "        {\"role\": \"system\", \"content\": \"Je suis un assistant qui permet de remplir les lettres de motivation pour vos candidatures. Je fais le lien entre vos expériences, vos compétences et l'offre d'emploi.\"},\n",
    "        {\"role\": \"user\", \"content\": f\"Voici mes compétences et expériences : {profile_info}\"},\n",
    "        {\"role\": \"system\", \"content\": \"Donnez moi l'offre d'emploi.\"},\n",
    "        {\"role\": \"user\", \"content\": f\"Voici le contenu de l'offre d'emploi : {job_info}\"},\n",
    "        {\"role\": \"system\", \"content\": \"Donne moi le format type de lettre de motivation que je dois suivre.\"},\n",
    "        {\"role\": \"user\", \"content\": f\"Voici le format type que j'aimerais que tu suives : {letter_format}\"},\n",
    "    ]"
   ]
  },
  {
   "cell_type": "markdown",
   "metadata": {},
   "source": [
    "### Function to get the response from the API"
   ]
  },
  {
   "cell_type": "code",
   "execution_count": 10,
   "metadata": {},
   "outputs": [
    {
     "name": "stdout",
     "output_type": "stream",
     "text": [
      "Poste & Entreprise : Bouygues Telecom - Alternance Développeur IA/Test F/H\n",
      "Objet : Candidature pour un stage en Alternance Développeur IA/Test F/H chez Bouygues Telecom\n",
      "\n",
      "Madame, Monsieur,\n",
      "\n",
      "Actuellement en préparation d'un Master 2 spécialisé en Big Data & Machine Learning à l'Efrei, je suis activement à la recherche d'une entreprise pour m'accueillir un an à partir d’octobre 2024. Cet expérience sera l’occasion d’enrichir ma formation théorique par une expérience pratique. C'est avec beaucoup d'enthousiasme que je vous présente ma candidature pour une alternance chez Bouygues Telecom pour le poste de Alternance Développeur IA/Test F/H.\n",
      "\n",
      "Votre entreprise est reconnue pour son expertise en matière de technologies de pointe et je suis convaincu que Bouygues Telecom est l'endroit idéal pour développer mes compétences. L'engagement de Bouygues Telecom dans l'innovation, notamment dans le domaine de l'intelligence artificielle et des systèmes d'informations, est particulièrement inspirant pour moi qui aspire à contribuer à des projets technologiques de pointe.\n",
      "\n",
      "En tant que candidat soucieux d'apprendre, je suis convaincu que cette alternance chez Bouygues Telecom me permettra de découvrir de nouvelles techniques et de travailler avec des professionnels expérimentés dans le domaine de l'ingénierie des systèmes d'informations. Je suis également conscient des défis inhérents à la mise en place et au test de nouveaux usages des outils IA générative, un domaine dans lequel j'ai déjà acquis une certaine expérience.\n",
      "\n",
      "Ma récente expérience en tant que consultant pour une startup, où j'ai piloté le développement d'une application utilisant l'intelligence artificielle pour la structuration des données à partir de CV, ainsi que mon alternance chez BPI France où j'ai utilisé Python dans le cadre de la Data Science, sont des exemples concrets de ma capacité à contribuer efficacement à votre entreprise. Ces expériences m'ont permis de développer une solide maîtrise en Python, des connaissances en NoSQL et SQL, ainsi qu'une familiarité avec les environnements cloud comme AWS, des compétences directement applicables aux missions proposées.\n",
      "\n",
      "Je serais honoré de travailler pour Bouygues Telecom et j'espère que ma candidature retiendra votre attention. Je suis convaincu que cette alternance serait une expérience professionnelle très enrichissante pour moi et que je pourrais contribuer de manière significative à votre entreprise. \n",
      "\n",
      "Je vous remercie pour l'attention que vous portez à ma candidature et je suis à votre disposition pour toute information complémentaire.\n",
      "\n",
      "Cordialement,\n",
      "\n",
      "Louis DESCLOUS\n"
     ]
    }
   ],
   "source": [
    "messages = prepare_messages(profile_info, job_info, letter_raw)\n",
    "completion = create_openai_completion(\"gpt-4-0125-preview\", messages)\n",
    "\n",
    "if completion:\n",
    "    result_raw = completion.choices[0].message.content\n",
    "    print(completion.choices[0].message.content)\n",
    "else:\n",
    "    print(\"Failed to get a response from the OpenAI API.\")"
   ]
  },
  {
   "cell_type": "markdown",
   "metadata": {},
   "source": [
    "## Data Cleaning"
   ]
  },
  {
   "cell_type": "code",
   "execution_count": 11,
   "metadata": {},
   "outputs": [],
   "source": [
    "def extract_text_between_markers(text, start_marker, end_marker):\n",
    "    try:\n",
    "        start_index = text.find(start_marker)\n",
    "        if start_index == -1:\n",
    "            raise ValueError(f\"Start marker '{start_marker}' not found in text.\")\n",
    "\n",
    "        start_index += len(start_marker)\n",
    "        end_index = text.find(end_marker, start_index)\n",
    "        if end_index == -1:\n",
    "            # If end marker is not found, it's not always an error.\n",
    "            return text[start_index:].strip()\n",
    "\n",
    "        return text[start_index:end_index].strip()\n",
    "    except Exception as e:\n",
    "        # Log the error.\n",
    "        print(f\"An error occurred while extracting text: {e}\")\n",
    "        # Decide on the return value in case of error. None, an empty string, or some default value might be appropriate.\n",
    "        return None"
   ]
  },
  {
   "cell_type": "code",
   "execution_count": 14,
   "metadata": {},
   "outputs": [
    {
     "name": "stdout",
     "output_type": "stream",
     "text": [
      "Bouygues Telecom - Alternance Développeur IA/Test F/H\n",
      "Candidature pour un stage en Alternance Développeur IA/Test F/H chez Bouygues Telecom\n",
      "\n",
      "Madame, Monsieur,\n",
      "\n",
      "Actuellement en préparation d'un Master 2 spécialisé en Big Data & Machine Learning à l'Efrei, je suis activement à la recherche d'une entreprise pour m'accueillir un an à partir d’octobre 2024. Cet expérience sera l’occasion d’enrichir ma formation théorique par une expérience pratique. C'est avec beaucoup d'enthousiasme que je vous présente ma candidature pour une alternance chez Bouygues Telecom pour le poste de Alternance Développeur IA/Test F/H.\n",
      "\n",
      "Votre entreprise est reconnue pour son expertise en matière de technologies de pointe et je suis convaincu que Bouygues Telecom est l'endroit idéal pour développer mes compétences. L'engagement de Bouygues Telecom dans l'innovation, notamment dans le domaine de l'intelligence artificielle et des systèmes d'informations, est particulièrement inspirant pour moi qui aspire à contribuer à des projets technologiques de pointe.\n",
      "\n",
      "En tant que candidat soucieux d'apprendre, je suis convaincu que cette alternance chez Bouygues Telecom me permettra de découvrir de nouvelles techniques et de travailler avec des professionnels expérimentés dans le domaine de l'ingénierie des systèmes d'informations. Je suis également conscient des défis inhérents à la mise en place et au test de nouveaux usages des outils IA générative, un domaine dans lequel j'ai déjà acquis une certaine expérience.\n",
      "\n",
      "Ma récente expérience en tant que consultant pour une startup, où j'ai piloté le développement d'une application utilisant l'intelligence artificielle pour la structuration des données à partir de CV, ainsi que mon alternance chez BPI France où j'ai utilisé Python dans le cadre de la Data Science, sont des exemples concrets de ma capacité à contribuer efficacement à votre entreprise. Ces expériences m'ont permis de développer une solide maîtrise en Python, des connaissances en NoSQL et SQL, ainsi qu'une familiarité avec les environnements cloud comme AWS, des compétences directement applicables aux missions proposées.\n",
      "\n",
      "Je serais honoré de travailler pour Bouygues Telecom et j'espère que ma candidature retiendra votre attention. Je suis convaincu que cette alternance serait une expérience professionnelle très enrichissante pour moi et que je pourrais contribuer de manière significative à votre entreprise. \n",
      "\n",
      "Je vous remercie pour l'attention que vous portez à ma candidature et je suis à votre disposition pour toute information complémentaire.\n",
      "\n",
      "Cordialement,\n",
      "\n",
      "Louis DESCLOUS\n"
     ]
    }
   ],
   "source": [
    "# Extracting segments\n",
    "poste_entreprise = extract_text_between_markers(result_raw, \"Poste & Entreprise : \", \"\\nObjet\")\n",
    "letter = extract_text_between_markers(result_raw, \"Objet : \", \"DESCLOUS\") + \" DESCLOUS\"\n",
    "\n",
    "print(poste_entreprise)\n",
    "print(letter)"
   ]
  },
  {
   "cell_type": "code",
   "execution_count": null,
   "metadata": {},
   "outputs": [],
   "source": [
    "link_to_the_job = job_info[0]\n",
    "export_content = f\"{link_to_the_job}\\n\\n{letter}\""
   ]
  },
  {
   "cell_type": "markdown",
   "metadata": {},
   "source": [
    "## Export result"
   ]
  },
  {
   "cell_type": "code",
   "execution_count": 27,
   "metadata": {},
   "outputs": [],
   "source": [
    "# Write the content to CL/CL - [Position] - [Company].txt\n",
    "file_path = f\"CL/CL - {poste_entreprise.replace('/', '-')}.txt\"\n",
    "with open(file_path, \"w\") as file:\n",
    "    file.write(export_content)"
   ]
  }
 ],
 "metadata": {
  "kernelspec": {
   "display_name": "Python 3",
   "language": "python",
   "name": "python3"
  },
  "language_info": {
   "codemirror_mode": {
    "name": "ipython",
    "version": 3
   },
   "file_extension": ".py",
   "mimetype": "text/x-python",
   "name": "python",
   "nbconvert_exporter": "python",
   "pygments_lexer": "ipython3",
   "version": "3.11.3"
  }
 },
 "nbformat": 4,
 "nbformat_minor": 2
}

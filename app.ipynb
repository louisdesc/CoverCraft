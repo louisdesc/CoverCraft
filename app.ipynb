{
 "cells": [
  {
   "cell_type": "code",
   "execution_count": 22,
   "metadata": {},
   "outputs": [],
   "source": [
    "# import os\n",
    "# api_key = os.getenv(\"OPENAI_API_KEY\")"
   ]
  },
  {
   "cell_type": "markdown",
   "metadata": {},
   "source": [
    "## Import input data"
   ]
  },
  {
   "cell_type": "code",
   "execution_count": 1,
   "metadata": {},
   "outputs": [],
   "source": [
    "def read_file(file_path):\n",
    "    with open(file_path) as f:\n",
    "        return f.readlines()\n",
    "\n",
    "# Read job_info.txt,profile_info.txt,letter_raw.txt files\n",
    "job_info = read_file(\"jobs/example.txt\")\n",
    "profile_info = read_file(\"profile_info.txt\")\n",
    "letter_raw = read_file(\"letter_raw.txt\")"
   ]
  },
  {
   "cell_type": "markdown",
   "metadata": {},
   "source": [
    "## Open AI API"
   ]
  },
  {
   "cell_type": "markdown",
   "metadata": {},
   "source": [
    "### Function to call the OpenAI API"
   ]
  },
  {
   "cell_type": "code",
   "execution_count": 2,
   "metadata": {},
   "outputs": [],
   "source": [
    "def create_openai_completion(model, messages):\n",
    "    from openai import OpenAI\n",
    "    client = OpenAI()\n",
    "    try:\n",
    "        completion = client.chat.completions.create(\n",
    "            model=model,\n",
    "            messages=messages,\n",
    "            temperature= 0.15,\n",
    "            response_format={ \"type\": \"json_object\" }\n",
    "        )\n",
    "        return completion\n",
    "    except Exception as e:\n",
    "        print(f\"An error occurred: {e}\")\n",
    "        return None"
   ]
  },
  {
   "cell_type": "markdown",
   "metadata": {},
   "source": [
    "### Function to prepare the prompt for the API"
   ]
  },
  {
   "cell_type": "code",
   "execution_count": 3,
   "metadata": {},
   "outputs": [],
   "source": [
    "\n",
    "def prepare_messages(profile_info, job_info, letter_format):\n",
    "    return [\n",
    "        {\"role\": \"system\", \"content\": \"Je suis un assistant qui permet de remplir les lettres de motivation pour vos candidatures. Je fais le lien entre vos expériences, vos compétences et l'offre d'emploi. Le schema JSON doit contenir : Entreprise, Poste, Objet, Contenu\"},\n",
    "        {\"role\": \"user\", \"content\": f\"Voici mes compétences et expériences : {profile_info}\"},\n",
    "        {\"role\": \"system\", \"content\": \"Donnez moi l'offre d'emploi.\"},\n",
    "        {\"role\": \"user\", \"content\": f\"Voici le contenu de l'offre d'emploi : {job_info}\"},\n",
    "        {\"role\": \"system\", \"content\": \"Donne moi le format type de lettre de motivation que je dois suivre.\"},\n",
    "        {\"role\": \"user\", \"content\": f\"Voici le format type de contenu que j'aimerais que tu suives : {letter_format}\"},\n",
    "    ]"
   ]
  },
  {
   "cell_type": "markdown",
   "metadata": {},
   "source": [
    "### Function to get the response from the API"
   ]
  },
  {
   "cell_type": "code",
   "execution_count": 4,
   "metadata": {},
   "outputs": [
    {
     "name": "stdout",
     "output_type": "stream",
     "text": [
      "{'Entreprise': 'Bouygues Telecom', 'Poste': 'Développeur IA/Test', 'Objet': 'Objet : Candidature pour une alternance en Développeur IA/Test chez Bouygues Telecom', 'Contenu': \"Madame, Monsieur,\\n\\nActuellement en préparation d'un Master 2 spécialisé en Big Data & Machine Learning à l'Efrei, je suis activement à la recherche d'une entreprise pour m'accueillir un an à partir d’octobre 2024. Cet expérience sera l’occasion d’enrichir ma formation théorique par une expérience pratique. C'est avec beaucoup d'enthousiasme que je vous présente ma candidature pour une alternance chez Bouygues Telecom pour le poste de Développeur IA/Test.\\n\\nVotre entreprise est reconnue pour son expertise en matière de technologies de pointe et je suis convaincu que votre entreprise est l'endroit idéal pour développer mes compétences. Bouygues Telecom recrute son/sa futur.e Développeur IA/Test en alternance, et je suis convaincu que je pourrais apporter une contribution significative à votre équipe.\\n\\nEn tant que candidat soucieux d'apprendre, je suis convaincu que cette alternance chez Bouygues Telecom me permettra de découvrir de nouvelles techniques et de travailler avec des professionnels expérimentés dans le domaine de l'IA et des tests. Je suis également conscient des défis inhérents à ce poste et je suis prêt à les relever avec détermination.\\n\\nAyant acquis une solide expérience en Python, en modélisation IA et en traitement du langage naturel lors de mes expériences précédentes, je suis convaincu de pouvoir contribuer de manière significative aux missions qui me seront confiées chez Bouygues Telecom.\\n\\nJe serais honoré de travailler pour Bouygues Telecom et j'espère que ma candidature retiendra votre attention. Je suis convaincu que cette alternance serait une expérience professionnelle très enrichissante pour moi et que je pourrais contribuer de manière significative à votre entreprise.\\n\\nJe vous remercie pour l'attention que vous portez à ma candidature et je suis à votre disposition pour toute information complémentaire.\\n\\nCordialement,\\n\\nLouis DESCLOUS\"}\n"
     ]
    }
   ],
   "source": [
    "import json\n",
    "messages = prepare_messages(profile_info, job_info, letter_raw)\n",
    "# completion = create_openai_completion(\"gpt-4-0125-preview\", messages)\n",
    "completion = create_openai_completion(\"gpt-3.5-turbo-0125\", messages)\n",
    "\n",
    "if completion:\n",
    "    result_raw = json.loads(completion.choices[0].message.content)\n",
    "    print(result_raw)\n",
    "else:\n",
    "    print(\"Failed to get a response from the OpenAI API.\")"
   ]
  },
  {
   "cell_type": "code",
   "execution_count": 5,
   "metadata": {},
   "outputs": [
    {
     "data": {
      "text/plain": [
       "\"https://bouyguestelecom-recrute.talent-soft.com/offre-de-emploi/emploi-alternance-developpeur-ia-test-f-h_47683.aspx\\n\\n\\nObjet : Candidature pour une alternance en Développeur IA/Test chez Bouygues Telecom\\nMadame, Monsieur,\\n\\nActuellement en préparation d'un Master 2 spécialisé en Big Data & Machine Learning à l'Efrei, je suis activement à la recherche d'une entreprise pour m'accueillir un an à partir d’octobre 2024. Cet expérience sera l’occasion d’enrichir ma formation théorique par une expérience pratique. C'est avec beaucoup d'enthousiasme que je vous présente ma candidature pour une alternance chez Bouygues Telecom pour le poste de Développeur IA/Test.\\n\\nVotre entreprise est reconnue pour son expertise en matière de technologies de pointe et je suis convaincu que votre entreprise est l'endroit idéal pour développer mes compétences. Bouygues Telecom recrute son/sa futur.e Développeur IA/Test en alternance, et je suis convaincu que je pourrais apporter une contribution significative à votre équipe.\\n\\nEn tant que candidat soucieux d'apprendre, je suis convaincu que cette alternance chez Bouygues Telecom me permettra de découvrir de nouvelles techniques et de travailler avec des professionnels expérimentés dans le domaine de l'IA et des tests. Je suis également conscient des défis inhérents à ce poste et je suis prêt à les relever avec détermination.\\n\\nAyant acquis une solide expérience en Python, en modélisation IA et en traitement du langage naturel lors de mes expériences précédentes, je suis convaincu de pouvoir contribuer de manière significative aux missions qui me seront confiées chez Bouygues Telecom.\\n\\nJe serais honoré de travailler pour Bouygues Telecom et j'espère que ma candidature retiendra votre attention. Je suis convaincu que cette alternance serait une expérience professionnelle très enrichissante pour moi et que je pourrais contribuer de manière significative à votre entreprise.\\n\\nJe vous remercie pour l'attention que vous portez à ma candidature et je suis à votre disposition pour toute information complémentaire.\\n\\nCordialement,\\n\\nLouis DESCLOUS\""
      ]
     },
     "execution_count": 5,
     "metadata": {},
     "output_type": "execute_result"
    }
   ],
   "source": [
    "link_to_the_job = job_info[0]\n",
    "export_content = f\"{link_to_the_job}\\n\\n{result_raw['Objet']}\\n{result_raw['Contenu']}\"\n",
    "export_content"
   ]
  },
  {
   "cell_type": "markdown",
   "metadata": {},
   "source": [
    "## Export result"
   ]
  },
  {
   "cell_type": "code",
   "execution_count": 60,
   "metadata": {},
   "outputs": [],
   "source": [
    "# Write the content to CL/CL - [Position] - [Company].txt\n",
    "file_path = f\"CL/{result_raw['Entreprise']} - {result_raw['Poste'].replace('/', '-')}.txt\"\n",
    "with open(file_path, \"w\") as file:\n",
    "    file.write(export_content)"
   ]
  }
 ],
 "metadata": {
  "kernelspec": {
   "display_name": "Python 3",
   "language": "python",
   "name": "python3"
  },
  "language_info": {
   "codemirror_mode": {
    "name": "ipython",
    "version": 3
   },
   "file_extension": ".py",
   "mimetype": "text/x-python",
   "name": "python",
   "nbconvert_exporter": "python",
   "pygments_lexer": "ipython3",
   "version": "3.11.3"
  }
 },
 "nbformat": 4,
 "nbformat_minor": 2
}

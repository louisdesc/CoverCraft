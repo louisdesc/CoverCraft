{
 "cells": [
  {
   "cell_type": "code",
   "execution_count": 22,
   "metadata": {},
   "outputs": [],
   "source": [
    "# import os\n",
    "# api_key = os.getenv(\"OPENAI_API_KEY\")"
   ]
  },
  {
   "cell_type": "markdown",
   "metadata": {},
   "source": [
    "## Import input data"
   ]
  },
  {
   "cell_type": "code",
   "execution_count": 29,
   "metadata": {},
   "outputs": [
    {
     "name": "stdout",
     "output_type": "stream",
     "text": [
      "['https://bouyguestelecom-recrute.talent-soft.com/offre-de-emploi/emploi-alternance-developpeur-ia-test-f-h_47683.aspx\\n', 'Alternance - Développeur IA/Test F/H\\n', ' Offre 2 / 2 \\n', 'Description du poste\\n', 'Famille Métier\\n', \"Système d'informations - Ingénierie\\n\", '\\n', 'Intitulé du poste\\n', 'Alternance - Développeur IA/Test F/H\\n', '\\n', 'Description de la mission\\n', 'Bouygues Telecom recrute son/sa futur.e Développeur IA/Test en alternance.\\n', '\\n', ' \\n', '\\n', 'Vous serez basé.e au Technopole de Meudon-la-Forêt (92), situé à deux pas du centre commercial Vélizy 2.\\n', '\\n', ' \\n', '\\n', 'Votre mission intervient au sein de la DSI dans la Direction DIGIT, dans les équipes de la Direction DIGAPT/TOPSI. La structure Gouvernance et Moyens de tests & Innovation a pour vocation d’accompagner l’ensemble des projets notamment pour les tests des processus fonctionnels transverses à tous les composants du SI de Bouygues Télécom.\\n', '\\n', ' \\n', '\\n', 'Vos missions seront de :\\n', '\\n', \" Contribuer à la structuration du plan de déploiement des nouveaux usages - outils IA Générative : Identification de la couverture des tests, Analyse qualité du patrimoine, Génération de la conception détaillée des tests (xRay), Génération de script de test en phase d'exécution des tests, Génération des jeux de données\\n\", 'Collecte de données : Mettre en place un mécanisme de collecte de données à partir de sources variées\\n', 'Traitement du langage naturel : Utiliser des techniques avancées de traitement du langage naturel (NLP)\\n', \"Interface utilisateur : Créer une interface utilisateur conviviale permettant aux utilisateurs de soumettre des requêtes, d'interagir avec les résultats et de visualiser la synthèse\\n\", 'Assister aux Standups quotidiens\\n', \"Proposition et démarche d'amélioration continue\\n\", ' \\n', '\\n', 'Compétences techniques :\\n', '\\n', 'Programmation en Python\\n', 'Connaissance de Framework IA\\n', 'Compréhension de la modélisation en IA\\n', 'Règles en mathématiques et statistiques\\n', 'Jira/Xray , ServiceNow ,…\\n', 'Détail du profil\\n', 'Issu(e) d’une école d’ingénieur, université ou formation équivalente, de niveau Bac +4/5, vous êtes à la recherche d’un contrat d’apprentissage à partir de septembre 2024.\\n', '\\n', ' \\n', '\\n', 'Vous aimez travailler dans un environnement fonctionnel riche. Vous faites preuve d’un bon relationnel et savez travailler en équipe dans un contexte agile. \\n', '\\n', ' \\n', '\\n', 'Pourquoi rejoindre Bouygues Telecom ? :\\n', '\\n', ' \\n', '\\n', 'Des valeurs essentielles telles que la bienveillance et la confiance, un cadre de travail agréable (salle de sport, nombreux points de restaurations, espaces de pause/ bien être, agence de voyages, …), des collaborateurs qui s’y sentent bien (moyenne d’ancienneté d’environ 7 ans) ainsi que de multiples possibilités d’évolution (formations, mobilités internes…) !\\n', '\\n', ' \\n', '\\n', 'Avantages :\\n', '\\n', 'Prise en charge de 90% du Pass Navigo intra-région et 50% inter-région\\n', '13ème mois\\n', 'CSE\\n', 'Accès aux services du technopôle (salle de sport, restaurants d’entreprise…)\\n', 'PEE\\n', 'Prime de participation et d’intéressement\\n', ' \\n', '\\n', 'Vous êtes motivé(e) pour apprendre tout en apportant votre contribution à la performance du groupe ? Alors, on est fait pour être ensemble !\\n', '\\n', 'Contrat\\n', 'Alternance\\n', '\\n', 'Durée du contrat\\n', '6 à 12 mois\\n', '\\n', 'Temps de travail\\n', 'Temps partiel\\n', '\\n']\n",
      "['LOUIS DESCLOUS\\n', 'Alternance en Big Data & Machine Learning (M2)\\n', 'Contrat d’apprentissage ou professionnalisation\\n', 'Dès Octobre 2024 pour 1 an\\n', 'CONTACT\\n', 'louisdesclous@gmail.com\\n', 'linkedin.com/in/louisdesclous https://www.linkedin.com/in/louisdesclous/\\n', '07 82 67 88 75\\n', 'Ile de France\\n', 'Permis B\\n', 'COMPÉTENCES\\n', 'Maîtrise : Python (pandas, scikit-learn,\\n', 'numpy, keras, pytorch), SQL, NoSQL, Scala\\n', 'Connaissance élémentaire : Java, R,\\n', 'Programmation\\n', 'Pack Office, Jupyter Notebook, Git, AWS\\n', 'Cloud, Azure Cloud, Docker, Notion\\n', 'Applications\\n', 'Autonome, Polyvalent, Proactif, Réfléchi\\n', 'Soft Skills\\n', 'LANGUES\\n', 'ANGLAIS : TOEIC 870/990\\n', 'ALLEMAND : Utilisation Elementaire\\n', 'Voyages\\n', '5 pays visités seuls\\n', 'Sports\\n', 'Course, Handball\\n', 'SINGULARITÉ\\n', 'EXPÉRIENCES\\n', '- Cloud AWS, API Gateway, S3, Lambda, DynamoDB\\n', '- utilisation de fine-tuning et prompt engineering pour\\n', 'afiner l’ouput du Large Language Model\\n', \"Pilotage du développement d'une application destinée\\n\", 'à transformer des CV en données structurées. Le projet\\n', \"implique l'extraction de données de PDF et OCR, suivie\\n\", \"de l'utilisation d'intelligence artificielle (LLM) pour la\\n\", \"structuration des données. Intégration d'une API pour la\\n\", \"réception des CV et l'envoi des réponses, avec une mise\\n\", 'en œuvre technique sur AWS en Python.\\n', \"Pilotage du développement d'une application destinée\\n\", 'à transformer des CV en données structurées. Le projet\\n', \"implique l'extraction de données de PDF et OCR, suivie\\n\", \"de l'utilisation d'intelligence artificielle (LLM) pour la\\n\", \"structuration des données. Intégration d'une API pour la\\n\", \"réception des CV et l'envoi des réponses, avec une mise\\n\", 'en œuvre technique sur AWS en Python.\\n', '2024 CONSULTANT - STARTUP\\n', '- Montée en compétence sur Dataiku (certication\\n', 'maximale)\\n', \"Projet d'automatisation via Dataiku, production de\\n\", 'rapport pour le service contentieux et traitement de\\n', 'donnée pour le Crédit-Bail Mobilier.\\n', \"Développement d'un logiciel Python pour le contrôle\\n\", 'qualité de donnée avec interface graphique et\\n', 'génération automatique des résultats sur PowerPoint.\\n', \"Projet d'automatisation via Dataiku, production de\\n\", 'rapport pour le service contentieux et traitement de\\n', 'donnée pour le Crédit-Bail Mobilier.\\n', \"Développement d'un logiciel Python pour le contrôle\\n\", 'qualité de donnée avec interface graphique et\\n', 'génération automatique des résultats sur PowerPoint.\\n', '2023-24 BPI FRANCE - ALTERNANCE\\n', '- utilisation de Python, dans le contexte de la Data Science\\n', '- travail en méthode Agile, gestion de projet\\n', 'Séminaire de 6 semaines axé sur l’application et le\\n', 'renforcement des compétences en Python et MySQL.\\n', 'Projet final : Analyse de sentiment (via NLP) pour évaluer\\n', 'les avis clients, permettant de déceler les points forts et\\n', 'faibles de produit à partir de commentaires.\\n', '2023 MASTERCAMP - FILIÈRE DATA\\n', '- amélioration de compétences en Python et JS\\n', '- gestion des stocks et des livraisons (300 produits)\\n', 'Création d’une micro-société de vente de\\n', 'marchandises de luxe en B2C et B2B avec CA de 100k€.\\n', 'Développement d’un logiciel (Python) de facturation et\\n', 'd’automatisation des achats.\\n', '2020-23 AUTO-ENTREPRENEUR\\n', 'DÉVELOPPEUR PYTHON - SOCIAL CLEAN\\n', 'Stage d’un mois, réalisation d’un programme Python\\n', 'permettant la génération d’un dashboard d’activité\\n', 'client sous format PDF avec pour entrée un fichier CSV.\\n', '2022\\n', '2017-23 FREELANCE DÉVELOPPEUR WEB\\n', '2022-23 RESPONSABLE ÉVÉNEMENTS - BDS EFREI\\n', '2021-22 MISSIONS PONCTUELLES & INTÉRIM\\n', 'FORMATION\\n', '2019 BACCALAURÉAT S - MENTION BIEN\\n', 'Master 1 en Ecole d’ingénieur du numérique, cours\\n', 'intégralement en Anglais.\\n', '2020-25 EFREI - INGÉNIEUR - BIG DATA & MACHINE L.\\n', '2024 AWS - CLOUD PRACTITIONER\\n', '2024 HUGGING FACE - DEEP RL CERTIFICATION']\n",
      "['Poste & Entreprise : ***Nom entreprise*** - ***Nom du poste***\\n', 'Objet : Candidature pour un stage en ***Nom du poste*** chez ***Nom entreprise***\\n', '\\n', 'Madame, Monsieur,\\n', '\\n', \"Actuellement en préparation d'un Master 2 spécialisé en Big Data & Machine Learning à l'Efrei, je suis activement à la recherche d'une entreprise pour m'accueillir un an à partir d’octobre 2024. Cet expérience sera l’occasion d’enrichir ma formation théorique par une expérience pratique. C'est avec beaucoup d'enthousiasme que je vous présente ma candidature pour une alternance chez ***Nom entreprise*** pour le poste de ***Nom poste***.\\n\", '\\n', \"Votre entreprise est reconnue pour son expertise en matière de technologies de pointe et je suis convaincue que votre entreprise est l'endroit idéal pour développer mes compétences. *** Paragraphe sur l’entreprise (news ou chose particulière qui pourrait être intéressante)***\\n\", '\\n', \"En tant que candidat soucieux d'apprendre, je suis convaincue que cette alternance chez **Nom entreprise** me permettra de découvrir de nouvelles techniques et de travailler avec des professionnels expérimentés dans le domaine ***Domaine du poste***. Je suis également consciente des défis inhérents ***Défi du poste***\\n\", '\\n', '***Mettre en lien mes expériences avec les demandes/défis/objectif du poste***\\n', '\\n', '\\n', '\\n', '\\n', '\\n', \"Je serais honorée de travailler pour ***Nom de l’entreprise*** et j'espère que ma candidature retiendra votre attention. Je suis convaincue que cette alternance serait une expérience professionnelle très enrichissante pour moi et que je pourrais contribuer de manière significative à votre entreprise. \\n\", '\\n', \"Je vous remercie pour l'attention que vous portez à ma candidature et je suis à votre disposition pour toute information complémentaire.\\n\", '\\n', 'Cordialement,\\n', '\\n', 'Louis DESCLOUS']\n"
     ]
    }
   ],
   "source": [
    "# Read job_info.txt file\n",
    "with open('job_info.txt') as f:\n",
    "    job_info = f.readlines()\n",
    "    print(job_info)\n",
    "\n",
    "# Read profile_info.txt file\n",
    "with open('profile_info.txt') as f:\n",
    "    profile_info = f.readlines()\n",
    "    print(profile_info)\n",
    "\n",
    "# Read letter_raw.txt file\n",
    "with open('letter_raw.txt') as f:\n",
    "    letter_raw = f.readlines()\n",
    "    print(letter_raw)"
   ]
  },
  {
   "cell_type": "markdown",
   "metadata": {},
   "source": [
    "## Call the OpenAI API"
   ]
  },
  {
   "cell_type": "code",
   "execution_count": 3,
   "metadata": {},
   "outputs": [
    {
     "name": "stdout",
     "output_type": "stream",
     "text": [
      "Poste & Entreprise : Bouygues Telecom - Alternance Développeur IA/Test F/H\n",
      "Objet : Candidature pour une alternance en Développeur IA/Test F/H chez Bouygues Telecom\n",
      "\n",
      "Madame, Monsieur,\n",
      "\n",
      "Actuellement en préparation d'un Master 2 spécialisé en Big Data & Machine Learning à l'Efrei, je suis activement à la recherche d'une entreprise pour m'accueillir un an à partir d’octobre 2024. Cette expérience sera l’occasion d’enrichir ma formation théorique par une expérience pratique. C'est avec beaucoup d'enthousiasme que je vous présente ma candidature pour une alternance chez Bouygues Telecom pour le poste de Développeur IA/Test F/H.\n",
      "\n",
      "Votre entreprise est reconnue pour son engagement dans l'innovation technologique et l'excellence de ses services dans le domaine des télécommunications. Je suis particulièrement intéressé par votre approche d'intégration de l'intelligence artificielle pour améliorer et optimiser les processus, ce qui représente une opportunité inestimable de contribuer à des projets d'avant-garde.\n",
      "\n",
      "En tant que candidat passionné par les technologies de pointe, notamment en matière d'intelligence artificielle et de big data, je suis convaincu que cette alternance chez Bouygues Telecom me permettra de découvrir de nouvelles techniques et de travailler avec des professionnels expérimentés dans le domaine des systèmes d'informations. Je suis également conscient des défis inhérents à la mise en place et au développement d'interfaces utilisateur conviviales et de mécanismes de collecte de données efficaces pour le traitement du langage naturel.\n",
      "\n",
      "Mes compétences techniques, acquises au fil de mes expériences dans le développement d'applications permettant la transformation de CV en données structurées, l'automatisation des processus via Dataiku et la manipulation de Python pour divers projets, correspondent étroitement aux besoins de votre poste. La mise en œuvre de solutions cloud avec AWS, l'exploitation de Data Science et de Machine Learning pour l'analyse de données et mon intérêt pour les techniques avancées de traitement du langage naturel (NLP) mettent en avant ma capacité à contribuer au succès de vos projets en matière d'IA et de tests.\n",
      "\n",
      "Je serais honoré de pouvoir apporter mon dynamisme, ma créativité et mon expertise au sein de Bouygues Telecom et j'espère que ma candidature retiendra votre attention. Je suis convaincu que cette alternance serait une expérience professionnelle très enrichissante pour moi et que je pourrais contribuer de manière significative à vos projets d'innovation.\n",
      "\n",
      "Je vous remercie pour l'attention que vous porterez à ma candidature et je suis à votre disposition pour toute information complémentaire ou pour un entretien.\n",
      "\n",
      "Cordialement,\n",
      "\n",
      "Louis DESCLOUS\n"
     ]
    }
   ],
   "source": [
    "from openai import OpenAI\n",
    "client = OpenAI()\n",
    "\n",
    "completion = client.chat.completions.create(\n",
    "  model=\"gpt-4-0125-preview\",\n",
    "  messages=[\n",
    "    {\"role\": \"system\", \"content\": \"Je suis un assistant qui permet de remplir les lettres de motivation pour vos candidatures. Je fais le lien entre vos expériences, vos compétences et l'offre d'emploi.\"},\n",
    "    \n",
    "    {\"role\": \"user\", \"content\": f\"Voici mes compétences et expériences : {profile_info}\"},\n",
    "\n",
    "    {\"role\": \"system\", \"content\": \"Donnez moi l'offre d'emploi.\"},\n",
    "\n",
    "    {\"role\": \"user\", \"content\": f\"Voici le contenu de l'offre d'emploi : {job_info}\"},\n",
    "\n",
    "    {\"role\": \"system\", \"content\": \"Donne moi le format type de lettre de motivation que je dois suivre.\"},\n",
    "\n",
    "    {\"role\": \"user\", \"content\": f\"Voici le format type que j'aimerais que tu suives : {letter_raw}\"},\n",
    "    \n",
    "  ]\n",
    ")\n",
    "\n",
    "print(completion.choices[0].message.content)"
   ]
  },
  {
   "cell_type": "code",
   "execution_count": 5,
   "metadata": {},
   "outputs": [],
   "source": [
    "result_raw = completion.choices[0].message.content"
   ]
  },
  {
   "cell_type": "markdown",
   "metadata": {},
   "source": [
    "## Data Cleaning"
   ]
  },
  {
   "cell_type": "code",
   "execution_count": 10,
   "metadata": {},
   "outputs": [
    {
     "name": "stdout",
     "output_type": "stream",
     "text": [
      "Bouygues Telecom - Alternance Développeur IA/Test F/H\n",
      "Objet : Candidature pour une alternance en Développeur IA/Test F/H chez Bouygues Telecom\n",
      "\n",
      "Madame, Monsieur,\n",
      "\n",
      "Actuellement en préparation d'un Master 2 spécialisé en Big Data & Machine Learning à l'Efrei, je suis activement à la recherche d'une entreprise pour m'accueillir un an à partir d’octobre 2024. Cette expérience sera l’occasion d’enrichir ma formation théorique par une expérience pratique. C'est avec beaucoup d'enthousiasme que je vous présente ma candidature pour une alternance chez Bouygues Telecom pour le poste de Développeur IA/Test F/H.\n",
      "\n",
      "Votre entreprise est reconnue pour son engagement dans l'innovation technologique et l'excellence de ses services dans le domaine des télécommunications. Je suis particulièrement intéressé par votre approche d'intégration de l'intelligence artificielle pour améliorer et optimiser les processus, ce qui représente une opportunité inestimable de contribuer à des projets d'avant-garde.\n",
      "\n",
      "En tant que candidat passionné par les technologies de pointe, notamment en matière d'intelligence artificielle et de big data, je suis convaincu que cette alternance chez Bouygues Telecom me permettra de découvrir de nouvelles techniques et de travailler avec des professionnels expérimentés dans le domaine des systèmes d'informations. Je suis également conscient des défis inhérents à la mise en place et au développement d'interfaces utilisateur conviviales et de mécanismes de collecte de données efficaces pour le traitement du langage naturel.\n",
      "\n",
      "Mes compétences techniques, acquises au fil de mes expériences dans le développement d'applications permettant la transformation de CV en données structurées, l'automatisation des processus via Dataiku et la manipulation de Python pour divers projets, correspondent étroitement aux besoins de votre poste. La mise en œuvre de solutions cloud avec AWS, l'exploitation de Data Science et de Machine Learning pour l'analyse de données et mon intérêt pour les techniques avancées de traitement du langage naturel (NLP) mettent en avant ma capacité à contribuer au succès de vos projets en matière d'IA et de tests.\n",
      "\n",
      "Je serais honoré de pouvoir apporter mon dynamisme, ma créativité et mon expertise au sein de Bouygues Telecom et j'espère que ma candidature retiendra votre attention. Je suis convaincu que cette alternance serait une expérience professionnelle très enrichissante pour moi et que je pourrais contribuer de manière significative à vos projets d'innovation.\n",
      "\n",
      "Je vous remercie pour l'attention que vous porterez à ma candidature et je suis à votre disposition pour toute information complémentaire ou pour un entretien.\n",
      "\n",
      "Cordialement,\n",
      "\n",
      "Louis DESCLOUS\n"
     ]
    }
   ],
   "source": [
    "# First extraction: \"Poste & Entreprise : \" to before \"Objet\"\n",
    "start_keyword_pe = \"Poste & Entreprise : \"\n",
    "end_keyword_pe = \"\\nObjet\"\n",
    "start_index_pe = result_raw.find(start_keyword_pe) + len(start_keyword_pe)\n",
    "end_index_pe = result_raw.find(end_keyword_pe)\n",
    "\n",
    "# Second extraction: \"Objet\" to \"DESCLOUS\"\n",
    "start_keyword_objet = \"Objet\"\n",
    "end_keyword_objet = \"DESCLOUS\"\n",
    "start_index_objet = result_raw.find(start_keyword_objet)\n",
    "end_index_objet = result_raw.find(end_keyword_objet) + len(end_keyword_objet)\n",
    "\n",
    "# Extracting the desired contents\n",
    "poste_entreprise = result_raw[start_index_pe:end_index_pe].strip()\n",
    "letter = result_raw[start_index_objet:end_index_objet].strip()\n",
    "\n",
    "\n",
    "print(poste_entreprise)\n",
    "print(letter)"
   ]
  },
  {
   "cell_type": "code",
   "execution_count": 25,
   "metadata": {},
   "outputs": [],
   "source": [
    "poste_entreprise = poste_entreprise.replace(\"/\",\"-\")\n",
    "\n",
    "link_to_the_job = job_info[0]\n",
    "export = link_to_the_job + \"\\n\\n\" + letter"
   ]
  },
  {
   "cell_type": "markdown",
   "metadata": {},
   "source": [
    "## Export result"
   ]
  },
  {
   "cell_type": "code",
   "execution_count": 27,
   "metadata": {},
   "outputs": [],
   "source": [
    "# Write the content to the file\n",
    "file_path = f\"CL - {poste_entreprise}.txt\"\n",
    "with open(file_path, \"w\") as file:\n",
    "    file.write(export)"
   ]
  }
 ],
 "metadata": {
  "kernelspec": {
   "display_name": "Python 3",
   "language": "python",
   "name": "python3"
  },
  "language_info": {
   "codemirror_mode": {
    "name": "ipython",
    "version": 3
   },
   "file_extension": ".py",
   "mimetype": "text/x-python",
   "name": "python",
   "nbconvert_exporter": "python",
   "pygments_lexer": "ipython3",
   "version": "3.11.3"
  }
 },
 "nbformat": 4,
 "nbformat_minor": 2
}

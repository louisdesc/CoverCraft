{
 "cells": [
  {
   "cell_type": "markdown",
   "metadata": {},
   "source": [
    "# CoverCraft - Cover Letter Automation Script"
   ]
  },
  {
   "cell_type": "markdown",
   "metadata": {},
   "source": [
    "## Setup\n",
    "### Import Required Libraries"
   ]
  },
  {
   "cell_type": "code",
   "execution_count": 11,
   "metadata": {},
   "outputs": [],
   "source": [
    "import os\n",
    "import json"
   ]
  },
  {
   "cell_type": "code",
   "execution_count": 12,
   "metadata": {},
   "outputs": [],
   "source": [
    "# api_key = os.getenv(\"OPENAI_API_KEY\")"
   ]
  },
  {
   "cell_type": "markdown",
   "metadata": {},
   "source": [
    "### Define Utility Functions"
   ]
  },
  {
   "cell_type": "code",
   "execution_count": 2,
   "metadata": {},
   "outputs": [],
   "source": [
    "def read_file(file_path):\n",
    "    with open(file_path) as f:\n",
    "        return f.readlines()\n",
    "\n",
    "# Read job_info.txt,profile_info.txt,letter_raw.txt files\n",
    "# job_info = read_file(\"jobs/example.txt\")\n",
    "# profile_info = read_file(\"profile_info.txt\")\n",
    "# letter_raw = read_file(\"letter_raw.txt\")"
   ]
  },
  {
   "cell_type": "markdown",
   "metadata": {},
   "source": [
    "## OpenAI API Integration\n",
    "### Function to create API Completion"
   ]
  },
  {
   "cell_type": "code",
   "execution_count": 3,
   "metadata": {},
   "outputs": [],
   "source": [
    "def create_openai_completion(model, messages):\n",
    "    \"\"\"Calls the OpenAI API to generate text completions.\"\"\"\n",
    "    from openai import OpenAI\n",
    "    client = OpenAI()\n",
    "    try:\n",
    "        completion = client.chat.completions.create(\n",
    "            model=model,\n",
    "            messages=messages,\n",
    "            temperature= 0.15,\n",
    "            response_format={ \"type\": \"json_object\" }\n",
    "        )\n",
    "        return completion\n",
    "    except Exception as e:\n",
    "        print(f\"An error occurred: {e}\")\n",
    "        return None"
   ]
  },
  {
   "cell_type": "markdown",
   "metadata": {},
   "source": [
    "### Prepare Prompt for API"
   ]
  },
  {
   "cell_type": "code",
   "execution_count": 4,
   "metadata": {},
   "outputs": [],
   "source": [
    "def prepare_messages(profile_info, job_info, letter_format):\n",
    "    return [\n",
    "        {\"role\": \"system\", \"content\": \"Je suis un assistant qui permet de remplir les lettres de motivation pour vos candidatures. Je fais le lien entre vos expériences, vos compétences et l'offre d'emploi. Le schema JSON doit contenir : Entreprise, Poste, Objet, Contenu\"},\n",
    "        {\"role\": \"user\", \"content\": f\"Voici mes compétences et expériences : {profile_info}\"},\n",
    "        {\"role\": \"system\", \"content\": \"Donnez moi l'offre d'emploi.\"},\n",
    "        {\"role\": \"user\", \"content\": f\"Voici le contenu de l'offre d'emploi : {job_info}\"},\n",
    "        {\"role\": \"system\", \"content\": \"Donne moi le format type de lettre de motivation que je dois suivre.\"},\n",
    "        {\"role\": \"user\", \"content\": f\"Voici le format type de contenu que j'aimerais que tu suives : {letter_format}\"},\n",
    "    ]"
   ]
  },
  {
   "cell_type": "markdown",
   "metadata": {},
   "source": [
    "## Application Processing"
   ]
  },
  {
   "cell_type": "markdown",
   "metadata": {},
   "source": [
    "### Process a Single Job Application"
   ]
  },
  {
   "cell_type": "code",
   "execution_count": 6,
   "metadata": {},
   "outputs": [],
   "source": [
    "def process_job_application(profile_info, letter_raw, job_info_filename):\n",
    "    \"\"\"Processes a single job application.\"\"\"\n",
    "    job_info = read_file(job_info_filename)\n",
    "    job_name = os.path.splitext(os.path.basename(job_info_filename))[0]\n",
    "    print(f\"Processing: {job_name}\")\n",
    "    \n",
    "    messages = prepare_messages(profile_info, job_info, letter_raw)\n",
    "    # completion = create_openai_completion(\"gpt-4-0125-preview\", messages)\n",
    "    completion = create_openai_completion(\"gpt-3.5-turbo-0125\", messages)\n",
    "    \n",
    "\n",
    "    if completion:\n",
    "        result_raw = json.loads(completion.choices[0].message.content)\n",
    "        # print(result_raw) # DEBUG\n",
    "\n",
    "        # Prepare export content\n",
    "        link_to_the_job = job_info[0]\n",
    "        export_content = f\"{link_to_the_job}\\n\\n{result_raw['Objet']}\\n{result_raw['Contenu']}\"\n",
    "        \n",
    "        # Define export path\n",
    "        file_path = f\"CL/{result_raw['Entreprise']} - {result_raw['Poste'].replace('/', '-')}.txt\"\n",
    "\n",
    "        \n",
    "        # Write the content to file\n",
    "        with open(file_path, \"w\", encoding='utf-8') as file:\n",
    "            file.write(export_content)\n",
    "        print(f\"Exported to {file_path}\")\n",
    "    else:\n",
    "        print(\"Failed to get a response from the OpenAI API.\")\n",
    "    print(\"============================================\\n\")"
   ]
  },
  {
   "cell_type": "markdown",
   "metadata": {},
   "source": [
    "### Process All Job Applications"
   ]
  },
  {
   "cell_type": "code",
   "execution_count": 9,
   "metadata": {},
   "outputs": [],
   "source": [
    "def process_all_jobs(jobs_directory, profile_info, letter_raw):\n",
    "    \"\"\"Processes all job applications in a directory.\"\"\"\n",
    "    for filename in os.listdir(jobs_directory):\n",
    "        if filename.startswith(\"job_info_\") and filename.endswith(\".txt\"):\n",
    "            job_info_filename = os.path.join(jobs_directory, filename)\n",
    "            # print(job_info_filename) # DEBUG\n",
    "            \n",
    "            process_job_application(profile_info, letter_raw, job_info_filename)"
   ]
  },
  {
   "cell_type": "markdown",
   "metadata": {},
   "source": [
    "## Main Execution\n",
    "### Execute Application Processing"
   ]
  },
  {
   "cell_type": "code",
   "execution_count": 10,
   "metadata": {},
   "outputs": [
    {
     "name": "stdout",
     "output_type": "stream",
     "text": [
      "Processing: job_info_1\n",
      "Exported to CL/Bouygues Telecom - Développeur IA-Test.txt\n",
      "============================================\n",
      "\n",
      "Processing: job_info_2\n",
      "Exported to CL/Bouygues Telecom - Alternant(e) - Analyste Développeur IA & Data F-H.txt\n",
      "============================================\n",
      "\n",
      "Processing: job_info_3\n",
      "Exported to CL/Thales - Développement logiciel - Data Science - Construction et déploiement d'indicateurs.txt\n",
      "============================================\n",
      "\n"
     ]
    }
   ],
   "source": [
    "data_directory = \"data\" \n",
    "profile_info_path = os.path.join(data_directory, \"profile_info.txt\")\n",
    "letter_raw_path = os.path.join(data_directory, \"letter_raw.txt\")\n",
    "jobs_directory = os.path.join(data_directory, \"jobs\")\n",
    "\n",
    "# Read the common files\n",
    "profile_info = read_file(profile_info_path)\n",
    "letter_raw = read_file(letter_raw_path)\n",
    "\n",
    "# Process all job applications\n",
    "process_all_jobs(jobs_directory, profile_info, letter_raw)"
   ]
  }
 ],
 "metadata": {
  "kernelspec": {
   "display_name": "Python 3",
   "language": "python",
   "name": "python3"
  },
  "language_info": {
   "codemirror_mode": {
    "name": "ipython",
    "version": 3
   },
   "file_extension": ".py",
   "mimetype": "text/x-python",
   "name": "python",
   "nbconvert_exporter": "python",
   "pygments_lexer": "ipython3",
   "version": "3.11.3"
  }
 },
 "nbformat": 4,
 "nbformat_minor": 2
}

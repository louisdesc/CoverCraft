{
 "cells": [
  {
   "cell_type": "code",
   "execution_count": 22,
   "metadata": {},
   "outputs": [],
   "source": [
    "# import os\n",
    "# api_key = os.getenv(\"OPENAI_API_KEY\")"
   ]
  },
  {
   "cell_type": "markdown",
   "metadata": {},
   "source": [
    "## Import input data"
   ]
  },
  {
   "cell_type": "code",
   "execution_count": 1,
   "metadata": {},
   "outputs": [],
   "source": [
    "def read_file(file_path):\n",
    "    with open(file_path) as f:\n",
    "        return f.readlines()\n",
    "\n",
    "# Read job_info.txt,profile_info.txt,letter_raw.txt files\n",
    "job_info = read_file(\"job_info.txt\")\n",
    "profile_info = read_file(\"profile_info.txt\")\n",
    "letter_raw = read_file(\"letter_raw.txt\")"
   ]
  },
  {
   "cell_type": "markdown",
   "metadata": {},
   "source": [
    "## Call the OpenAI API"
   ]
  },
  {
   "cell_type": "code",
   "execution_count": 3,
   "metadata": {},
   "outputs": [
    {
     "name": "stdout",
     "output_type": "stream",
     "text": [
      "Poste & Entreprise : Bouygues Telecom - Alternance Développeur IA/Test F/H\n",
      "Objet : Candidature pour une alternance en Développeur IA/Test F/H chez Bouygues Telecom\n",
      "\n",
      "Madame, Monsieur,\n",
      "\n",
      "Actuellement en préparation d'un Master 2 spécialisé en Big Data & Machine Learning à l'Efrei, je suis activement à la recherche d'une entreprise pour m'accueillir un an à partir d’octobre 2024. Cette expérience sera l’occasion d’enrichir ma formation théorique par une expérience pratique. C'est avec beaucoup d'enthousiasme que je vous présente ma candidature pour une alternance chez Bouygues Telecom pour le poste de Développeur IA/Test F/H.\n",
      "\n",
      "Votre entreprise est reconnue pour son engagement dans l'innovation technologique et l'excellence de ses services dans le domaine des télécommunications. Je suis particulièrement intéressé par votre approche d'intégration de l'intelligence artificielle pour améliorer et optimiser les processus, ce qui représente une opportunité inestimable de contribuer à des projets d'avant-garde.\n",
      "\n",
      "En tant que candidat passionné par les technologies de pointe, notamment en matière d'intelligence artificielle et de big data, je suis convaincu que cette alternance chez Bouygues Telecom me permettra de découvrir de nouvelles techniques et de travailler avec des professionnels expérimentés dans le domaine des systèmes d'informations. Je suis également conscient des défis inhérents à la mise en place et au développement d'interfaces utilisateur conviviales et de mécanismes de collecte de données efficaces pour le traitement du langage naturel.\n",
      "\n",
      "Mes compétences techniques, acquises au fil de mes expériences dans le développement d'applications permettant la transformation de CV en données structurées, l'automatisation des processus via Dataiku et la manipulation de Python pour divers projets, correspondent étroitement aux besoins de votre poste. La mise en œuvre de solutions cloud avec AWS, l'exploitation de Data Science et de Machine Learning pour l'analyse de données et mon intérêt pour les techniques avancées de traitement du langage naturel (NLP) mettent en avant ma capacité à contribuer au succès de vos projets en matière d'IA et de tests.\n",
      "\n",
      "Je serais honoré de pouvoir apporter mon dynamisme, ma créativité et mon expertise au sein de Bouygues Telecom et j'espère que ma candidature retiendra votre attention. Je suis convaincu que cette alternance serait une expérience professionnelle très enrichissante pour moi et que je pourrais contribuer de manière significative à vos projets d'innovation.\n",
      "\n",
      "Je vous remercie pour l'attention que vous porterez à ma candidature et je suis à votre disposition pour toute information complémentaire ou pour un entretien.\n",
      "\n",
      "Cordialement,\n",
      "\n",
      "Louis DESCLOUS\n"
     ]
    }
   ],
   "source": [
    "from openai import OpenAI\n",
    "client = OpenAI()\n",
    "\n",
    "completion = client.chat.completions.create(\n",
    "  model=\"gpt-4-0125-preview\",\n",
    "  messages=[\n",
    "    {\"role\": \"system\", \"content\": \"Je suis un assistant qui permet de remplir les lettres de motivation pour vos candidatures. Je fais le lien entre vos expériences, vos compétences et l'offre d'emploi.\"},\n",
    "    \n",
    "    {\"role\": \"user\", \"content\": f\"Voici mes compétences et expériences : {profile_info}\"},\n",
    "\n",
    "    {\"role\": \"system\", \"content\": \"Donnez moi l'offre d'emploi.\"},\n",
    "\n",
    "    {\"role\": \"user\", \"content\": f\"Voici le contenu de l'offre d'emploi : {job_info}\"},\n",
    "\n",
    "    {\"role\": \"system\", \"content\": \"Donne moi le format type de lettre de motivation que je dois suivre.\"},\n",
    "\n",
    "    {\"role\": \"user\", \"content\": f\"Voici le format type que j'aimerais que tu suives : {letter_raw}\"},\n",
    "    \n",
    "  ]\n",
    ")\n",
    "\n",
    "print(completion.choices[0].message.content)"
   ]
  },
  {
   "cell_type": "code",
   "execution_count": 5,
   "metadata": {},
   "outputs": [],
   "source": [
    "result_raw = completion.choices[0].message.content"
   ]
  },
  {
   "cell_type": "markdown",
   "metadata": {},
   "source": [
    "## Data Cleaning"
   ]
  },
  {
   "cell_type": "code",
   "execution_count": 10,
   "metadata": {},
   "outputs": [
    {
     "name": "stdout",
     "output_type": "stream",
     "text": [
      "Bouygues Telecom - Alternance Développeur IA/Test F/H\n",
      "Objet : Candidature pour une alternance en Développeur IA/Test F/H chez Bouygues Telecom\n",
      "\n",
      "Madame, Monsieur,\n",
      "\n",
      "Actuellement en préparation d'un Master 2 spécialisé en Big Data & Machine Learning à l'Efrei, je suis activement à la recherche d'une entreprise pour m'accueillir un an à partir d’octobre 2024. Cette expérience sera l’occasion d’enrichir ma formation théorique par une expérience pratique. C'est avec beaucoup d'enthousiasme que je vous présente ma candidature pour une alternance chez Bouygues Telecom pour le poste de Développeur IA/Test F/H.\n",
      "\n",
      "Votre entreprise est reconnue pour son engagement dans l'innovation technologique et l'excellence de ses services dans le domaine des télécommunications. Je suis particulièrement intéressé par votre approche d'intégration de l'intelligence artificielle pour améliorer et optimiser les processus, ce qui représente une opportunité inestimable de contribuer à des projets d'avant-garde.\n",
      "\n",
      "En tant que candidat passionné par les technologies de pointe, notamment en matière d'intelligence artificielle et de big data, je suis convaincu que cette alternance chez Bouygues Telecom me permettra de découvrir de nouvelles techniques et de travailler avec des professionnels expérimentés dans le domaine des systèmes d'informations. Je suis également conscient des défis inhérents à la mise en place et au développement d'interfaces utilisateur conviviales et de mécanismes de collecte de données efficaces pour le traitement du langage naturel.\n",
      "\n",
      "Mes compétences techniques, acquises au fil de mes expériences dans le développement d'applications permettant la transformation de CV en données structurées, l'automatisation des processus via Dataiku et la manipulation de Python pour divers projets, correspondent étroitement aux besoins de votre poste. La mise en œuvre de solutions cloud avec AWS, l'exploitation de Data Science et de Machine Learning pour l'analyse de données et mon intérêt pour les techniques avancées de traitement du langage naturel (NLP) mettent en avant ma capacité à contribuer au succès de vos projets en matière d'IA et de tests.\n",
      "\n",
      "Je serais honoré de pouvoir apporter mon dynamisme, ma créativité et mon expertise au sein de Bouygues Telecom et j'espère que ma candidature retiendra votre attention. Je suis convaincu que cette alternance serait une expérience professionnelle très enrichissante pour moi et que je pourrais contribuer de manière significative à vos projets d'innovation.\n",
      "\n",
      "Je vous remercie pour l'attention que vous porterez à ma candidature et je suis à votre disposition pour toute information complémentaire ou pour un entretien.\n",
      "\n",
      "Cordialement,\n",
      "\n",
      "Louis DESCLOUS\n"
     ]
    }
   ],
   "source": [
    "# First extraction: \"Poste & Entreprise : \" to before \"Objet\"\n",
    "start_keyword_pe = \"Poste & Entreprise : \"\n",
    "end_keyword_pe = \"\\nObjet\"\n",
    "start_index_pe = result_raw.find(start_keyword_pe) + len(start_keyword_pe)\n",
    "end_index_pe = result_raw.find(end_keyword_pe)\n",
    "\n",
    "# Second extraction: \"Objet\" to \"DESCLOUS\"\n",
    "start_keyword_objet = \"Objet\"\n",
    "end_keyword_objet = \"DESCLOUS\"\n",
    "start_index_objet = result_raw.find(start_keyword_objet)\n",
    "end_index_objet = result_raw.find(end_keyword_objet) + len(end_keyword_objet)\n",
    "\n",
    "# Extracting the desired contents\n",
    "poste_entreprise = result_raw[start_index_pe:end_index_pe].strip()\n",
    "letter = result_raw[start_index_objet:end_index_objet].strip()\n",
    "\n",
    "\n",
    "print(poste_entreprise)\n",
    "print(letter)"
   ]
  },
  {
   "cell_type": "code",
   "execution_count": null,
   "metadata": {},
   "outputs": [],
   "source": [
    "poste_entreprise = poste_entreprise.replace(\"/\",\"-\")\n",
    "\n",
    "link_to_the_job = job_info[0]\n",
    "export = link_to_the_job + \"\\n\\n\" + letter"
   ]
  },
  {
   "cell_type": "markdown",
   "metadata": {},
   "source": [
    "## Export result"
   ]
  },
  {
   "cell_type": "code",
   "execution_count": 27,
   "metadata": {},
   "outputs": [],
   "source": [
    "# Write the content to the file\n",
    "file_path = f\"CL - {poste_entreprise}.txt\"\n",
    "with open(file_path, \"w\") as file:\n",
    "    file.write(export)"
   ]
  }
 ],
 "metadata": {
  "kernelspec": {
   "display_name": "Python 3",
   "language": "python",
   "name": "python3"
  },
  "language_info": {
   "codemirror_mode": {
    "name": "ipython",
    "version": 3
   },
   "file_extension": ".py",
   "mimetype": "text/x-python",
   "name": "python",
   "nbconvert_exporter": "python",
   "pygments_lexer": "ipython3",
   "version": "3.11.3"
  }
 },
 "nbformat": 4,
 "nbformat_minor": 2
}
